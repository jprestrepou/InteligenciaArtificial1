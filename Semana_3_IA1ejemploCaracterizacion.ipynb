{
  "nbformat": 4,
  "nbformat_minor": 0,
  "metadata": {
    "colab": {
      "provenance": []
    },
    "kernelspec": {
      "name": "python3",
      "display_name": "Python 3"
    },
    "language_info": {
      "name": "python"
    }
  },
  "cells": [
    {
      "cell_type": "markdown",
      "source": [
        "# Caracterizacion de señales\n",
        "\n",
        "Para este caso partiré de señales de ruido. Existen señales almacenadas en difernetes formatos, es tarea de ustedes identificar como se deben cargar de maera correcta."
      ],
      "metadata": {
        "id": "TXhIAgWAQNQM"
      }
    },
    {
      "cell_type": "code",
      "source": [
        "import random\n",
        "import numpy as np\n",
        "import matplotlib.pyplot as plt\n",
        "import pandas as pd\n",
        "\n",
        "\n",
        "def generarSenal(puntos = 10000):\n",
        "  signal = []\n",
        "  for i in range(puntos):\n",
        "    signal.append(random.random())\n",
        "\n",
        "  return np.asarray(signal)\n",
        "\n",
        "\n",
        "signal = generarSenal()\n",
        "plt.plot(signal)"
      ],
      "metadata": {
        "id": "-pAQLB4VQfwI"
      },
      "execution_count": null,
      "outputs": []
    },
    {
      "cell_type": "markdown",
      "source": [
        "Para extraer las caracteriticas les mostrare un esquema sensillo para ello."
      ],
      "metadata": {
        "id": "ScI_Gq65RiKZ"
      }
    },
    {
      "cell_type": "code",
      "source": [
        "tamano_ventana = 500\n",
        "solapamiento = 250\n",
        "\n",
        "\n",
        "matriz_ = pd.DataFrame(columns=(\"señal\", \"media de la media\", \"desviacion de la media\"))\n",
        "## esto solo es para generar varias señales y mostrarles como quedaria\n",
        "for j in range(10):\n",
        "  signal = generarSenal()\n",
        "  media = []\n",
        "\n",
        "  ## esta es la caracterizacion\n",
        "  for i in range(0, len(signal), solapamiento):\n",
        "      x = signal[i:i + tamano_ventana]\n",
        "\n",
        "      media.append(np.mean(x))\n",
        "\n",
        "  data = {\"señal\": [j],\n",
        "          \"media de la media\": [np.mean(media)],\n",
        "          \"desviacion de la media\": [np.std(media)]}\n",
        "\n",
        "  # momentos estadisticos\n",
        "  matriz = pd.DataFrame(data)\n",
        "  matriz_ = pd.concat([matriz_,matriz])\n",
        "\n"
      ],
      "metadata": {
        "id": "YduJrxHdRge3"
      },
      "execution_count": null,
      "outputs": []
    },
    {
      "cell_type": "code",
      "source": [
        "matriz_"
      ],
      "metadata": {
        "colab": {
          "base_uri": "https://localhost:8080/",
          "height": 175
        },
        "id": "YI5A0ybHUXvm",
        "outputId": "55754be2-b43e-4275-cbc4-7c243c9c82c0"
      },
      "execution_count": 1,
      "outputs": [
        {
          "output_type": "error",
          "ename": "NameError",
          "evalue": "ignored",
          "traceback": [
            "\u001b[0;31m---------------------------------------------------------------------------\u001b[0m",
            "\u001b[0;31mNameError\u001b[0m                                 Traceback (most recent call last)",
            "\u001b[0;32m<ipython-input-1-3010d788a454>\u001b[0m in \u001b[0;36m<cell line: 1>\u001b[0;34m()\u001b[0m\n\u001b[0;32m----> 1\u001b[0;31m \u001b[0mmatriz_\u001b[0m\u001b[0;34m\u001b[0m\u001b[0;34m\u001b[0m\u001b[0m\n\u001b[0m",
            "\u001b[0;31mNameError\u001b[0m: name 'matriz_' is not defined"
          ]
        }
      ]
    },
    {
      "cell_type": "markdown",
      "source": [
        "# Para imagenes\n",
        "\n",
        "En este caso seria un poco similar"
      ],
      "metadata": {
        "id": "YvDM8uzuWIVf"
      }
    },
    {
      "cell_type": "code",
      "source": [
        "from random import randint\n",
        "\n",
        "def imagenAleatoria():\n",
        "  cols = 240\n",
        "  rows = 240\n",
        "  imagen = [[randint(1,10) * int(all([i, i < cols - 1, j, j < rows - 1])) for i in range(cols)] for j in range(rows)]\n",
        "\n",
        "  return imagen\n",
        "\n",
        "imagen = imagenAleatoria()\n",
        "plt.imshow(imagen)\n",
        "\n"
      ],
      "metadata": {
        "id": "2bQQuF3aWQjv"
      },
      "execution_count": null,
      "outputs": []
    },
    {
      "cell_type": "code",
      "source": [
        "matriz_ = pd.DataFrame(columns=(\"imagen\", \"media\"))\n",
        "\n",
        "for j in range(10):\n",
        "  imagen = imagenAleatoria()\n",
        "\n",
        "  ## esta es la caracterizacion\n",
        "  media = np.mean(x)\n",
        "\n",
        "  data = {\"imagen\": [j],\n",
        "          \"media\": [media]}\n",
        "\n",
        "  # momentos estadisticos\n",
        "  matriz = pd.DataFrame(data)\n",
        "  matriz_ = pd.concat([matriz_,matriz])"
      ],
      "metadata": {
        "id": "ibXiLcS4YHuY"
      },
      "execution_count": null,
      "outputs": []
    },
    {
      "cell_type": "code",
      "source": [
        "matriz_"
      ],
      "metadata": {
        "id": "E1lUkLMuZ_y4"
      },
      "execution_count": null,
      "outputs": []
    }
  ]
}