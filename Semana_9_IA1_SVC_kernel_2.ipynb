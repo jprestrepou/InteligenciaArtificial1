{
  "nbformat": 4,
  "nbformat_minor": 0,
  "metadata": {
    "colab": {
      "private_outputs": true,
      "provenance": []
    },
    "kernelspec": {
      "name": "python3",
      "display_name": "Python 3"
    },
    "language_info": {
      "name": "python"
    }
  },
  "cells": [
    {
      "cell_type": "code",
      "execution_count": null,
      "metadata": {
        "id": "ySaCLxcJavGg"
      },
      "outputs": [],
      "source": [
        "import numpy as np\n",
        "import matplotlib.pyplot as plt\n",
        "from mpl_toolkits.mplot3d import Axes3D\n",
        "from sklearn.datasets import make_circles\n",
        "from sklearn.metrics.pairwise import polynomial_kernel, rbf_kernel\n",
        "\n",
        "X, y = make_circles(n_samples=100, factor=0.3, noise=0.05)\n",
        "\n",
        "degree = 3\n",
        "poly_kernel = polynomial_kernel(X, degree=degree)\n",
        "gamma = 0.5\n",
        "rbf_kernel_values = rbf_kernel(X, gamma=gamma)\n",
        "fig = plt.figure(figsize=(12, 6))\n",
        "\n",
        "ax1 = fig.add_subplot(121)\n",
        "ax1.scatter(X[:, 0], X[:, 1], c=y, cmap='coolwarm')\n",
        "ax1.set_title('Datos originales en 2D')\n",
        "\n",
        "ax2 = fig.add_subplot(122, projection='3d')\n",
        "ax2.scatter(poly_kernel[:, 0], poly_kernel[:, 1], poly_kernel[:, 2], c=y, cmap='coolwarm')\n",
        "ax2.set_title(f'Transformación con Kernel Polinómico (grado {degree})')\n",
        "ax2.set_xlabel('X')\n",
        "ax2.set_ylabel('Y')\n",
        "ax2.set_zlabel('Z')\n",
        "\n",
        "plt.show()\n",
        "\n",
        "fig = plt.figure(figsize=(6, 6))\n",
        "ax3 = fig.add_subplot(111, projection='3d')\n",
        "ax3.scatter(rbf_kernel_values[:, 0], rbf_kernel_values[:, 1], rbf_kernel_values[:, 2], c=y, cmap='coolwarm')\n",
        "ax3.set_title('Transformación con Kernel RBF (Gaussiano)')\n",
        "ax3.set_xlabel('X')\n",
        "ax3.set_ylabel('Y')\n",
        "ax3.set_zlabel('Z')\n",
        "\n",
        "plt.show()\n",
        "\n",
        "from sklearn.metrics.pairwise import sigmoid_kernel, linear_kernel\n",
        "\n",
        "# Definimos el kernel sigmoidal\n",
        "alpha = 0.1\n",
        "coef0 = 1\n",
        "sigmoid_kernel_values = sigmoid_kernel(X, gamma=alpha, coef0=coef0)\n",
        "\n",
        "# Definimos el kernel lineal\n",
        "linear_kernel_values = linear_kernel(X)\n",
        "\n",
        "# Graficamos la transformación con el kernel sigmoidal\n",
        "fig = plt.figure(figsize=(12, 6))\n",
        "\n",
        "# Primer gráfico: transformación con el kernel sigmoidal\n",
        "ax1 = fig.add_subplot(121, projection='3d')\n",
        "ax1.scatter(sigmoid_kernel_values[:, 0], sigmoid_kernel_values[:, 1], sigmoid_kernel_values[:, 2], c=y, cmap='coolwarm')\n",
        "ax1.set_title(f'Transformación con Kernel Sigmoidal')\n",
        "ax1.set_xlabel('X')\n",
        "ax1.set_ylabel('Y')\n",
        "ax1.set_zlabel('Z')\n",
        "\n",
        "# Segundo gráfico: transformación con el kernel lineal (sin cambio)\n",
        "ax2 = fig.add_subplot(122, projection='3d')\n",
        "ax2.scatter(linear_kernel_values[:, 0], linear_kernel_values[:, 1], linear_kernel_values[:, 2], c=y, cmap='coolwarm')\n",
        "ax2.set_title(f'Transformación con Kernel Lineal (sin cambio dimensional)')\n",
        "ax2.set_xlabel('X')\n",
        "ax2.set_ylabel('Y')\n",
        "ax2.set_zlabel('Z')\n",
        "\n",
        "plt.show()\n"
      ]
    },
    {
      "cell_type": "code",
      "source": [
        "\n"
      ],
      "metadata": {
        "id": "wO4iHL5fbvOF"
      },
      "execution_count": null,
      "outputs": []
    }
  ]
}